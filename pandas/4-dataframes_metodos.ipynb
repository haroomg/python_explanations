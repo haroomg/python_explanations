{
 "cells": [
  {
   "cell_type": "code",
   "execution_count": null,
   "metadata": {},
   "outputs": [],
   "source": [
    "# imports\n",
    "import pandas as pd\n",
    "import duckdb as dk"
   ]
  },
  {
   "cell_type": "code",
   "execution_count": null,
   "metadata": {},
   "outputs": [],
   "source": [
    "df = pd.read_csv(\"data/ModalidadVirtual.csv\")"
   ]
  },
  {
   "cell_type": "code",
   "execution_count": null,
   "metadata": {},
   "outputs": [],
   "source": [
    "# filtramos por el rango de la edad\n",
    "df[\"edad\"] > 23 # mayor que 23"
   ]
  },
  {
   "cell_type": "code",
   "execution_count": null,
   "metadata": {},
   "outputs": [],
   "source": [
    "# Devuelve la informacion(numero de row, numero de columns, indices, tipo de columns, memoria usada)\n",
    "df.info()\n"
   ]
  },
  {
   "cell_type": "code",
   "execution_count": null,
   "metadata": {},
   "outputs": [],
   "source": [
    "\n",
    "# devuelve una tupla con el numero de filas y columnas del df\n",
    "print(df.shape)"
   ]
  },
  {
   "cell_type": "code",
   "execution_count": null,
   "metadata": {},
   "outputs": [],
   "source": [
    "\n",
    "# devuelve el nunero de elementos del df\n",
    "print(df.size)"
   ]
  },
  {
   "cell_type": "code",
   "execution_count": null,
   "metadata": {},
   "outputs": [],
   "source": [
    "\n",
    "# devuelve una lista con los nombres de las columnas del df\n",
    "print(df.columns)\n"
   ]
  },
  {
   "cell_type": "code",
   "execution_count": null,
   "metadata": {},
   "outputs": [],
   "source": [
    "\n",
    "# devuelve una lista con los nombres de las filas del df\n",
    "df.index\n"
   ]
  },
  {
   "cell_type": "code",
   "execution_count": null,
   "metadata": {},
   "outputs": [],
   "source": [
    "\n",
    "# devuelve una serie con los tipos de datos de las columnas del df\n",
    "df.dtypes\n"
   ]
  },
  {
   "cell_type": "code",
   "execution_count": null,
   "metadata": {},
   "outputs": [],
   "source": [
    "\n",
    "# devuelve las n primeras filas del df\n",
    "df.head(2)\n"
   ]
  },
  {
   "cell_type": "code",
   "execution_count": null,
   "metadata": {},
   "outputs": [],
   "source": [
    "\n",
    "# devuelve las n ultimas filas del df\n",
    "df.tail(2)"
   ]
  },
  {
   "cell_type": "code",
   "execution_count": null,
   "metadata": {},
   "outputs": [],
   "source": [
    "# localizar elementos del df\n",
    "\n",
    "i = 1 # i representa las filas \n",
    "j = 2 # j representa las columnas\n",
    "\n",
    "df.iloc[i,j]"
   ]
  },
  {
   "cell_type": "code",
   "execution_count": null,
   "metadata": {},
   "outputs": [],
   "source": [
    "# localizar y ver en un rango de valores de una fila\n",
    "\n",
    "i = 2 # i representa las filas \n",
    "r = 5 # representa el rango hasta donde llegara\n",
    "\n",
    "df.iloc[i,:r]"
   ]
  },
  {
   "cell_type": "code",
   "execution_count": null,
   "metadata": {},
   "outputs": [],
   "source": [
    "print(df.loc[2, \"carrera\"])\n",
    "print(df.loc[:2, (\"carrera\", \"positivo\")])"
   ]
  },
  {
   "cell_type": "markdown",
   "metadata": {},
   "source": [
    "La diferencia entre .iloc y .loc radica en que iloc se usa para acceder a informacion mediante las coordenadas de la matriz como es el caso de (8,9)\n",
    "donde ocho es la posicion en la  fila y nueva es la posicion en la columna. En cambio loc es para acceder a a la informacion mediante las etiquetas de esta \n",
    "como (\"nombre\", \"edad\") o tambien podemos usar una combinacion de index y etiqueta como (8, \"nombre)"
   ]
  },
  {
   "cell_type": "code",
   "execution_count": null,
   "metadata": {},
   "outputs": [],
   "source": [
    "# añadir una nueva columna al df\n",
    "\n",
    "df[\"turno\"] = pd.Series([\"tarde\" for turno in range(len(df))])\n",
    "df.head(5)"
   ]
  },
  {
   "cell_type": "code",
   "execution_count": null,
   "metadata": {},
   "outputs": [],
   "source": [
    "# eliminar columnas del df\n",
    "\n",
    "turno = df.pop(\"turno\")\n",
    "df.head(5)"
   ]
  },
  {
   "cell_type": "code",
   "execution_count": null,
   "metadata": {},
   "outputs": [],
   "source": [
    "\n",
    "# agregar una fila al dataframe\n",
    "df.loc[len(df)] = [len(df),\"2020-12-12\",\"mecatronica\",\"Si\",\"Horario flexible.\",\"Falta de recursos de calidad(plataformas, docentes).\",23,\"Hombre\",\"Sí\"]\n",
    "df.tail(1)\n",
    "\n",
    "last_index = len(df) - 1\n",
    "\n",
    "# eliminar una fila al dataframe\n",
    "df.drop([last_index], axis=0, inplace=True) # ingresamos el index de la fila que queremos eliminar\n",
    "# axis: es para declarar que se va a eliminar una fila con el 0 o columna con el 1\n",
    "# inplace: se debe implementar sobre el mismo data frame\n",
    "df.tail(5) # como se puede ver, lo ultimo que agregamos ya no aparece"
   ]
  },
  {
   "cell_type": "code",
   "execution_count": null,
   "metadata": {},
   "outputs": [],
   "source": [
    "# filtrado de filas en el dataframe\n",
    "df[(df[\"sexo\"] == \"Mujer\") & (df[\"edad\"] >= 20)]"
   ]
  },
  {
   "cell_type": "code",
   "execution_count": null,
   "metadata": {},
   "outputs": [],
   "source": [
    "# ordenar dataframe\n",
    "\n",
    "# ordena el df por medio de una columna señalada, de manera ascendente\n",
    "df.sort_values(\"carrera\") \n",
    "\n",
    "# con la sentencia ascending en positivo ordena de manera ascendente, con false de manera decendente\n",
    "df.sort_values(\"edad\", ascending=False) "
   ]
  },
  {
   "cell_type": "code",
   "execution_count": null,
   "metadata": {},
   "outputs": [],
   "source": [
    "# eliminar las filas que contengan un Nan en uno de sus campos\n",
    "df.dropna()"
   ]
  },
  {
   "cell_type": "code",
   "execution_count": null,
   "metadata": {},
   "outputs": [],
   "source": [
    "# concatenaion por columnas\n",
    "# para poder concatenar dataframes por sus columnas es necesario que ambos dataframes cuenten con el minmos numero y nombre de columnas\n",
    "\n",
    "df1 = pd.DataFrame(\n",
    "    {\n",
    "        \"nombre\":[\"jose\", \"carlor\", \"luis\", \"Carlota\"],\n",
    "        \"carreras\": [\"publicidad\", \"informatica\", \"filosofia\", \"matematicas\"],\n",
    "        \"edad\": [30, 24, 80, 99]\n",
    "    }\n",
    ").set_index(\"nombre\") # con el metodo de set_index() declaramos el el index del DF va a ser la columna señalada, en este caso seria \"nombre\"\n",
    "\n",
    "df2 = pd.DataFrame(\n",
    "    {\n",
    "        \"nombre\":[\"andres\", \"jan\", \"marlon\", \"david\"],\n",
    "        \"carreras\": [\"publicidad\", \"informatica\", \"filosofia\", \"matematicas\"],\n",
    "        \"edad\": [55, 14, 30, 29]\n",
    "    }\n",
    ").set_index(\"nombre\")\n",
    "\n",
    "# conatenamos los dos dataframes\n",
    "df3 = pd.concat([df1, df2], axis=1)\n",
    "# axis = 1\n",
    "# en el parametro axis, si no lo declaramos por defecto va a estar en uno lo que quiere decir que se va a concatenar por las columnas\n",
    "\n",
    "df3.head(10)"
   ]
  },
  {
   "cell_type": "code",
   "execution_count": null,
   "metadata": {},
   "outputs": [],
   "source": [
    "# concatenacion por filas\n",
    "# para poder concatenar dataframes mediante sus filas es necesario que el index de las filas de ambos df sean iguales\n",
    "\n",
    "autos = pd.DataFrame(\n",
    "    {\n",
    "        \"autos\": [\"nissan\", \"frod\", \"audi\"],\n",
    "        \"color\": [\"blanco\", \"azul\", \"rojo\"]\n",
    "    }\n",
    ").set_index(\"autos\") # declaramos el index del df\n",
    "\n",
    "autos2 = pd.DataFrame(\n",
    "    {\n",
    "        \"autos\": [\"nissan\", \"frod\", \"audi\"],\n",
    "        \"modelo\": [2018, 2020, 2022]   \n",
    "    }\n",
    ").set_index(\"autos\")\n",
    "\n",
    "autos3 = pd.concat([autos, autos2], axis=0)\n",
    "# axis = 0\n",
    "# si queremos concatenar por las filas debemos declarar el paramtro axis en 0\n",
    "autos3.head(10)"
   ]
  },
  {
   "cell_type": "markdown",
   "metadata": {},
   "source": [
    "*Mezclar DataFrames:*\n",
    "\n",
    "podemos concatenar N cantidad de dataFrames, solo que debemos verificar y definir que cumplan las condifiones para ser concatenado por \n",
    "fila o columna"
   ]
  },
  {
   "cell_type": "code",
   "execution_count": 45,
   "metadata": {},
   "outputs": [
    {
     "data": {
      "text/html": [
       "<div>\n",
       "<style scoped>\n",
       "    .dataframe tbody tr th:only-of-type {\n",
       "        vertical-align: middle;\n",
       "    }\n",
       "\n",
       "    .dataframe tbody tr th {\n",
       "        vertical-align: top;\n",
       "    }\n",
       "\n",
       "    .dataframe thead th {\n",
       "        text-align: right;\n",
       "    }\n",
       "</style>\n",
       "<table border=\"1\" class=\"dataframe\">\n",
       "  <thead>\n",
       "    <tr style=\"text-align: right;\">\n",
       "      <th></th>\n",
       "      <th>autos</th>\n",
       "      <th>color</th>\n",
       "      <th>modelo</th>\n",
       "    </tr>\n",
       "  </thead>\n",
       "  <tbody>\n",
       "    <tr>\n",
       "      <th>0</th>\n",
       "      <td>nissan</td>\n",
       "      <td>blanco</td>\n",
       "      <td>NaN</td>\n",
       "    </tr>\n",
       "    <tr>\n",
       "      <th>1</th>\n",
       "      <td>frod</td>\n",
       "      <td>azul</td>\n",
       "      <td>2020.0</td>\n",
       "    </tr>\n",
       "    <tr>\n",
       "      <th>2</th>\n",
       "      <td>audi</td>\n",
       "      <td>rojo</td>\n",
       "      <td>2022.0</td>\n",
       "    </tr>\n",
       "    <tr>\n",
       "      <th>3</th>\n",
       "      <td>toyota</td>\n",
       "      <td>NaN</td>\n",
       "      <td>2018.0</td>\n",
       "    </tr>\n",
       "  </tbody>\n",
       "</table>\n",
       "</div>"
      ],
      "text/plain": [
       "    autos   color  modelo\n",
       "0  nissan  blanco     NaN\n",
       "1    frod    azul  2020.0\n",
       "2    audi    rojo  2022.0\n",
       "3  toyota     NaN  2018.0"
      ]
     },
     "execution_count": 45,
     "metadata": {},
     "output_type": "execute_result"
    }
   ],
   "source": [
    "# mezclar dataframes\n",
    "\n",
    "autos = pd.DataFrame(\n",
    "    {\n",
    "        \"autos\": [\"nissan\", \"frod\", \"audi\"],\n",
    "        \"color\": [\"blanco\", \"azul\", \"rojo\"]\n",
    "    }\n",
    ")\n",
    "\n",
    "autos2 = pd.DataFrame(\n",
    "    {\n",
    "        \"autos\": [\"toyota\", \"frod\", \"audi\"],\n",
    "        \"modelo\": [2018, 2020, 2022]   \n",
    "    }\n",
    ")\n",
    "\n",
    "autos3 = pd.merge(autos, autos2, on=\"autos\", how=\"outer\")\n",
    "\n",
    "autos3.head(10)"
   ]
  },
  {
   "cell_type": "markdown",
   "metadata": {},
   "source": [
    "Explicasion de los parametros de pd.merge():\n",
    "\n",
    "left y right: Son los DataFrames que deseas combinar.\n",
    "\n",
    "on: Especifica la(s) columna(s) en la(s) que se basará la fusión. Puedes proporcionar un nombre de columna como cadena o una lista de nombres de columnas si quieres combinar los DataFrames en múltiples columnas.\n",
    "\n",
    "how: Este parámetro determina el tipo de fusión que se realizará. Los valores posibles son: 'inner', 'outer', 'left' y 'right'. Por defecto, el valor es 'inner'. Algunos ejemplos de cómo afecta cada opción son:\n",
    "\n",
    "- 'inner': Realiza una intersección entre las columnas de fusión de ambos DataFrames y devuelve solo las filas que tienen coincidencias en ambas tablas.\n",
    "\n",
    "- 'outer': Realiza una unión entre las columnas de fusión de ambos DataFrames y devuelve todas las filas de ambos DataFrames, rellenando los valores faltantes con NaN en caso de no haber coincidencias.\n",
    "\n",
    "- 'left': Utiliza las columnas del DataFrame de la izquierda como base y conserva todas las filas de dicho DataFrame. Si no hay coincidencias en las columnas de fusión, se rellenan los valores faltantes con NaN.\n",
    "\n",
    "- 'right': Utiliza las columnas del DataFrame de la derecha como base y conserva todas las filas de dicho DataFrame. Si no hay coincidencias en las columnas de fusión, se rellenan los valores faltantes con NaN.\n",
    "\n",
    "left_on y right_on: Permite especificar columnas diferentes en los DataFrames izquierdo y derecho para realizar la fusión. Esto es útil cuando los nombres de las columnas no coinciden entre los DataFrames.\n",
    "\n",
    "left_index y right_index: Si se establece en True, utiliza los índices de los DataFrames en lugar de las columnas como base para la fusión."
   ]
  }
 ],
 "metadata": {
  "kernelspec": {
   "display_name": "Python 3",
   "language": "python",
   "name": "python3"
  },
  "language_info": {
   "codemirror_mode": {
    "name": "ipython",
    "version": 3
   },
   "file_extension": ".py",
   "mimetype": "text/x-python",
   "name": "python",
   "nbconvert_exporter": "python",
   "pygments_lexer": "ipython3",
   "version": "3.9.2"
  },
  "orig_nbformat": 4
 },
 "nbformat": 4,
 "nbformat_minor": 2
}
