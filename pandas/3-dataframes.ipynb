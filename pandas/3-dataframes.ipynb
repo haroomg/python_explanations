{
 "cells": [
  {
   "cell_type": "code",
   "execution_count": 11,
   "metadata": {},
   "outputs": [],
   "source": [
    "# imports\n",
    "import pandas as pd\n",
    "import numpy as np"
   ]
  },
  {
   "cell_type": "code",
   "execution_count": 5,
   "metadata": {},
   "outputs": [],
   "source": [
    "data = {\n",
    "    \"nombres\":[\"Maria\",\"Jose\", \"David\", \"Ivan\"],\n",
    "    \"carrera\":[\"Auditoria\", \"Informatica\", \"Derecho\", \"idiomas\"],\n",
    "    \"correo\":[\"Maria@gmail.com\",\"Jose@gmail.com\", \"David@gmail.com\", \"Ivan@gmail.com\"]\n",
    "    }"
   ]
  },
  {
   "cell_type": "code",
   "execution_count": 8,
   "metadata": {},
   "outputs": [
    {
     "name": "stdout",
     "output_type": "stream",
     "text": [
      "  nombres      carrera           correo\n",
      "0   Maria    Auditoria  Maria@gmail.com\n",
      "1    Jose  Informatica   Jose@gmail.com\n",
      "2   David      Derecho  David@gmail.com\n",
      "3    Ivan      idiomas   Ivan@gmail.com\n"
     ]
    }
   ],
   "source": [
    "# generamos el dataFrame apartir del dict\n",
    "dataFrame_estudiantes = pd.DataFrame(data)\n",
    "print(dataFrame_estudiantes)"
   ]
  },
  {
   "cell_type": "code",
   "execution_count": 10,
   "metadata": {},
   "outputs": [
    {
     "name": "stdout",
     "output_type": "stream",
     "text": [
      "  nombre  edad\n",
      "0  Maria    27\n",
      "1   Jose    30\n",
      "2  David    50\n",
      "3   Ivan    29\n"
     ]
    }
   ],
   "source": [
    "# generamos un df apartir de una lista\n",
    "df = pd.DataFrame([[\"Maria\",27],[\"Jose\",30], [\"David\",50], [\"Ivan\",29]], columns= [\"nombre\", \"edad\"])\n",
    "print(df)"
   ]
  },
  {
   "cell_type": "code",
   "execution_count": 13,
   "metadata": {},
   "outputs": [
    {
     "name": "stdout",
     "output_type": "stream",
     "text": [
      "          a         b         c\n",
      "0 -1.116406 -1.824382 -1.709654\n",
      "1  0.244930  0.373832  0.261243\n",
      "2 -2.009018  0.532377  1.458143\n",
      "3 -0.156431  0.540300  1.751369\n"
     ]
    }
   ],
   "source": [
    "# generamos un df apartir de una array\n",
    "df = pd.DataFrame(np.random.randn(4,3), columns=[\"a\", \"b\", \"c\"])\n",
    "print(df)"
   ]
  }
 ],
 "metadata": {
  "kernelspec": {
   "display_name": "Python 3",
   "language": "python",
   "name": "python3"
  },
  "language_info": {
   "codemirror_mode": {
    "name": "ipython",
    "version": 3
   },
   "file_extension": ".py",
   "mimetype": "text/x-python",
   "name": "python",
   "nbconvert_exporter": "python",
   "pygments_lexer": "ipython3",
   "version": "3.9.2"
  },
  "orig_nbformat": 4
 },
 "nbformat": 4,
 "nbformat_minor": 2
}
