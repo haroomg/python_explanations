{
 "cells": [
  {
   "cell_type": "code",
   "execution_count": 2,
   "metadata": {},
   "outputs": [],
   "source": [
    "# imports\n",
    "import pandas as pd"
   ]
  },
  {
   "cell_type": "code",
   "execution_count": 13,
   "metadata": {},
   "outputs": [],
   "source": [
    "numeros = pd.Series(list(range(10)))"
   ]
  },
  {
   "cell_type": "code",
   "execution_count": 14,
   "metadata": {},
   "outputs": [
    {
     "name": "stdout",
     "output_type": "stream",
     "text": [
      "45\n",
      "9\n",
      "0\n",
      "3.0276503540974917\n"
     ]
    }
   ],
   "source": [
    "# metodos de suma\n",
    "print(numeros.sum())\n",
    "\n",
    "# encontrar el max de la serie\n",
    "print(numeros.max())\n",
    "\n",
    "# encontrar el max de la serie\n",
    "print(numeros.min())\n",
    "\n",
    "# desviacion estandar de la serie\n",
    "print(numeros.std())"
   ]
  },
  {
   "cell_type": "code",
   "execution_count": 17,
   "metadata": {},
   "outputs": [
    {
     "data": {
      "text/plain": [
       "count    10.00000\n",
       "mean      4.50000\n",
       "std       3.02765\n",
       "min       0.00000\n",
       "25%       2.25000\n",
       "50%       4.50000\n",
       "75%       6.75000\n",
       "max       9.00000\n",
       "dtype: float64"
      ]
     },
     "execution_count": 17,
     "metadata": {},
     "output_type": "execute_result"
    }
   ],
   "source": [
    "# listar una descripcion general\n",
    "numeros.describe()"
   ]
  },
  {
   "cell_type": "code",
   "execution_count": 23,
   "metadata": {},
   "outputs": [
    {
     "name": "stdout",
     "output_type": "stream",
     "text": [
      "matematicas      8\n",
      "programacion    10\n",
      "dtype: int64\n",
      "\n",
      "fisica           5\n",
      "economia         6\n",
      "matematicas      8\n",
      "programacion    10\n",
      "dtype: int64\n",
      "\n",
      "programacion    10\n",
      "matematicas      8\n",
      "fisica           5\n",
      "economia         6\n",
      "dtype: int64\n",
      "\n"
     ]
    }
   ],
   "source": [
    "series = pd.Series({\"matematicas\":8, \"economia\":6, \"programacion\":10, \"fisica\":5})\n",
    "\n",
    "# filtar por valores\n",
    "print(series[series > 6])\n",
    "print(\"\")\n",
    "\n",
    "# ordenar los valores, por defecto lo hace de manera ascendente\n",
    "print(series.sort_values())\n",
    "print(\"\")\n",
    "\n",
    "# ordenar por el index\n",
    "# True - ascendente\n",
    "# False - descendente\n",
    "print(series.sort_index(ascending=False)) # en este caso, como el index es de strings, lo ordena por el oreden del abecedario\n",
    "print(\"\")"
   ]
  },
  {
   "cell_type": "code",
   "execution_count": 26,
   "metadata": {},
   "outputs": [
    {
     "name": "stdout",
     "output_type": "stream",
     "text": [
      "9    hola\n",
      "8    hola\n",
      "7    hola\n",
      "6    hola\n",
      "5    hola\n",
      "4    hola\n",
      "dtype: object\n"
     ]
    }
   ],
   "source": [
    "# generar series en escalar\n",
    "data  = 5\n",
    "# en el parametro index definimos la log y el valor de cada index de nuestra serie\n",
    "series = pd.Series(data, index=[9,8,7,6,5,4])\n",
    "print(series)"
   ]
  },
  {
   "cell_type": "code",
   "execution_count": 28,
   "metadata": {},
   "outputs": [
    {
     "name": "stdout",
     "output_type": "stream",
     "text": [
      "psg               messi\n",
      "manchester    cristiano\n",
      "madrid          benzema\n",
      "dtype: object\n"
     ]
    }
   ],
   "source": [
    "# definir los valores y indices de la serie\n",
    "\n",
    "data_list = [\"messi\", \"cristiano\", \"benzema\"]\n",
    "\n",
    "indices = [\"psg\", \"manchester\", \"madrid\"]\n",
    "\n",
    "futbol = pd.Series(data_list, index=indices)\n",
    "\n",
    "print(futbol)"
   ]
  }
 ],
 "metadata": {
  "kernelspec": {
   "display_name": "Python 3",
   "language": "python",
   "name": "python3"
  },
  "language_info": {
   "codemirror_mode": {
    "name": "ipython",
    "version": 3
   },
   "file_extension": ".py",
   "mimetype": "text/x-python",
   "name": "python",
   "nbconvert_exporter": "python",
   "pygments_lexer": "ipython3",
   "version": "3.9.2"
  },
  "orig_nbformat": 4
 },
 "nbformat": 4,
 "nbformat_minor": 2
}
