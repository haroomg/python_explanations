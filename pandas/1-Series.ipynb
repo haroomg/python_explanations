{
 "cells": [
  {
   "cell_type": "code",
   "execution_count": 3,
   "metadata": {},
   "outputs": [],
   "source": [
    "# imports\n",
    "import pandas as pd\n",
    "import numpy as np"
   ]
  },
  {
   "cell_type": "markdown",
   "metadata": {},
   "source": [
    "Estructuras de datos:\n",
    "\n",
    "- Series: Son conjuntos de datos en los cuales podemos almacenar todo tipo de datos. Siendo esta una matriz de 1D.\n",
    "\n",
    "- DataFrames: Son un conjunto de series. Siendo esta una matriz de nD. Donde se va a almacenar todo tipo de datos en las columnas."
   ]
  },
  {
   "cell_type": "markdown",
   "metadata": {},
   "source": [
    "Series:"
   ]
  },
  {
   "cell_type": "code",
   "execution_count": 4,
   "metadata": {},
   "outputs": [
    {
     "name": "stdout",
     "output_type": "stream",
     "text": [
      "0      4\n",
      "1      9\n",
      "2      2\n",
      "3      6\n",
      "4     10\n",
      "5    200\n",
      "dtype: int64\n",
      "0    60\n",
      "1    22\n",
      "2     1\n",
      "3    79\n",
      "4     2\n",
      "5     8\n",
      "dtype: int64\n"
     ]
    }
   ],
   "source": [
    "naranjas = pd.Series(np.array([4,9,2,6,10,200]))\n",
    "print(naranjas)\n",
    "\n",
    "manzanas = pd.Series(np.array([60,22,1,79,2,8]))\n",
    "print(manzanas)\n"
   ]
  },
  {
   "cell_type": "code",
   "execution_count": 5,
   "metadata": {},
   "outputs": [
    {
     "name": "stdout",
     "output_type": "stream",
     "text": [
      "Matenatica     60\n",
      "Fisica        100\n",
      "Quimica        78\n",
      "dtype: int64\n",
      "\n",
      "3\n",
      "\n",
      "Index(['Matenatica', 'Fisica', 'Quimica'], dtype='object')\n",
      "\n",
      "int64\n",
      "\n"
     ]
    }
   ],
   "source": [
    "# al ingresarle un dict a la serie, los indices de esta, va a ser las llaves del dict\n",
    "materias = pd.Series({\"Matenatica\":60, \"Fisica\":100, \"Quimica\":78})\n",
    "print(materias)\n",
    "print(\"\")\n",
    "\n",
    "# .size: Devuelve el numero de elementos de la serie\n",
    "print(materias.size)\n",
    "print(\"\")\n",
    "\n",
    "# .index: Devuelve una lista con los nombres de las filas de la serie\n",
    "print(materias.index)\n",
    "print(\"\")\n",
    "\n",
    "# .dtype: Devuelve el tipo de datos d elos elementos de la serie \n",
    "print(materias.dtype)\n",
    "print(\"\")"
   ]
  },
  {
   "cell_type": "code",
   "execution_count": 10,
   "metadata": {},
   "outputs": [
    {
     "name": "stdout",
     "output_type": "stream",
     "text": [
      "2     Azul\n",
      "3    Verde\n",
      "dtype: object\n"
     ]
    }
   ],
   "source": [
    "# para listar hasta cierto rango, cuando nuestro index es numerico\n",
    "colores = pd.Series([\"Rojo\", \"Amarillo\", \"Azul\", \"Verde\", \"Morado\"])\n",
    "\n",
    "print(colores[2:4])"
   ]
  },
  {
   "cell_type": "code",
   "execution_count": 19,
   "metadata": {},
   "outputs": [
    {
     "name": "stdout",
     "output_type": "stream",
     "text": [
      "Amarillo    1\n",
      "Rojo        0\n",
      "dtype: int64\n"
     ]
    }
   ],
   "source": [
    "# para listar cuando nuestro index es de palabras\n",
    "\n",
    "colors_list = [\"Rojo\", \"Amarillo\", \"Azul\", \"Verde\", \"Morado\"]\n",
    "\n",
    "colores = pd.Series({color:index for color, index in zip(colors_list, range(len(colores)))})\n",
    "\n",
    "print(colores[[\"Amarillo\", \"Rojo\"]])"
   ]
  },
  {
   "cell_type": "code",
   "execution_count": 21,
   "metadata": {},
   "outputs": [
    {
     "name": "stdout",
     "output_type": "stream",
     "text": [
      "0   -2\n",
      "1   -1\n",
      "2    0\n",
      "3    1\n",
      "4    2\n",
      "5    3\n",
      "6    4\n",
      "7    5\n",
      "8    6\n",
      "9    7\n",
      "dtype: int64\n"
     ]
    }
   ],
   "source": [
    "# multiplicasion, suma, resta, division de todos los elementos de la Serie\n",
    "\n",
    "numeros = pd.Series(list(range(10)))\n",
    "\n",
    "print( numeros * 2 )"
   ]
  }
 ],
 "metadata": {
  "kernelspec": {
   "display_name": "Python 3",
   "language": "python",
   "name": "python3"
  },
  "language_info": {
   "codemirror_mode": {
    "name": "ipython",
    "version": 3
   },
   "file_extension": ".py",
   "mimetype": "text/x-python",
   "name": "python",
   "nbconvert_exporter": "python",
   "pygments_lexer": "ipython3",
   "version": "3.9.2"
  },
  "orig_nbformat": 4
 },
 "nbformat": 4,
 "nbformat_minor": 2
}
