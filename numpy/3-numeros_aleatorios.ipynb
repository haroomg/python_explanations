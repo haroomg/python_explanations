{
 "cells": [
  {
   "cell_type": "code",
   "execution_count": null,
   "metadata": {},
   "outputs": [],
   "source": [
    "import numpy as np\n",
    "from pprint import pprint as pp"
   ]
  },
  {
   "cell_type": "code",
   "execution_count": null,
   "metadata": {},
   "outputs": [],
   "source": [
    "# encontrar numeros random, en este caso serian numeros enteros\n",
    "# con size que retorne un array de n cantidad de elementos de manera aleatoria\n",
    "# o tambien podemos decirle que escale en sus dimenciones com 3x2, 3x3x3\n",
    "\n",
    "m = np.random.randint(10, size=(3,3,3))\n",
    "print(m)"
   ]
  },
  {
   "cell_type": "code",
   "execution_count": null,
   "metadata": {},
   "outputs": [],
   "source": [
    "# genera numeros decimales aleatorios de un rango de 0 a 1, solo debemos decirles cuantos deciamles aleatorios son \n",
    "# aplica lo mismo que el ejemplo anterios del size\n",
    "\n",
    "m = np.random.rand(2,2)\n",
    "print(m)"
   ]
  },
  {
   "cell_type": "code",
   "execution_count": null,
   "metadata": {},
   "outputs": [],
   "source": [
    "# extrae un valor de manera aleatoria de array o lista\n",
    "# al usar el paramtro size le estamos pidiendo que genere una matriz de N x M \n",
    "# y que la rellene con con valores aleatorios de la lista que le acabamos de proporcionar\n",
    "\n",
    "m = np.random.choice([10,55,66,85,63,72], size=(3,3))\n",
    "print(m)"
   ]
  },
  {
   "cell_type": "code",
   "execution_count": null,
   "metadata": {},
   "outputs": [],
   "source": [
    "m = np.random.choice([2,4,8,10], p=[0.3, 0.5, 0.1, 0.1], size=[50])\n",
    "print(m)"
   ]
  }
 ],
 "metadata": {
  "kernelspec": {
   "display_name": "Python 3",
   "language": "python",
   "name": "python3"
  },
  "language_info": {
   "codemirror_mode": {
    "name": "ipython",
    "version": 3
   },
   "file_extension": ".py",
   "mimetype": "text/x-python",
   "name": "python",
   "nbconvert_exporter": "python",
   "pygments_lexer": "ipython3",
   "version": "3.9.2"
  },
  "orig_nbformat": 4
 },
 "nbformat": 4,
 "nbformat_minor": 2
}
