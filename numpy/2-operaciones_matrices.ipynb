{
 "cells": [
  {
   "cell_type": "code",
   "execution_count": 1,
   "metadata": {},
   "outputs": [],
   "source": [
    "# imports\n",
    "\n",
    "import numpy as np \n",
    "from pprint import pprint as pp"
   ]
  },
  {
   "cell_type": "code",
   "execution_count": 3,
   "metadata": {},
   "outputs": [
    {
     "name": "stdout",
     "output_type": "stream",
     "text": [
      "22\n"
     ]
    }
   ],
   "source": [
    "# localizar un elmento en especifico\n",
    "\n",
    "m = np.arange(24).reshape(4,6)\n",
    "print(m[3,4])"
   ]
  },
  {
   "cell_type": "code",
   "execution_count": 8,
   "metadata": {},
   "outputs": [
    {
     "name": "stdout",
     "output_type": "stream",
     "text": [
      "[ 1  2  4  7  9 90]\n"
     ]
    }
   ],
   "source": [
    "# ordenar matrices de manera ascendente\n",
    "m1 = np.array([90,7,9,4,2,1])\n",
    "print(np.sort(m1))"
   ]
  },
  {
   "cell_type": "code",
   "execution_count": 10,
   "metadata": {},
   "outputs": [
    {
     "name": "stdout",
     "output_type": "stream",
     "text": [
      "[ 64 125 216]\n",
      "[16 25 36]\n"
     ]
    }
   ],
   "source": [
    "# elevar a la N potencia todos los elementos de un array\n",
    "\n",
    "m1 = np.array([4,5,6])\n",
    "print(np.power(m1, 3))\n",
    "\n",
    "# tambien se puede hacer de otra forma \n",
    "print(m1**2)"
   ]
  },
  {
   "cell_type": "code",
   "execution_count": 11,
   "metadata": {},
   "outputs": [
    {
     "name": "stdout",
     "output_type": "stream",
     "text": [
      "[False False False  True  True  True  True  True  True]\n"
     ]
    }
   ],
   "source": [
    "# conformar un array booleano apartir de una consulta\n",
    "\n",
    "m1 = np.array([1,2,3,4,5,6,7,8,9])\n",
    "print(np.array(m1 >= 4))"
   ]
  },
  {
   "cell_type": "code",
   "execution_count": 12,
   "metadata": {},
   "outputs": [
    {
     "name": "stdout",
     "output_type": "stream",
     "text": [
      "19 0\n"
     ]
    }
   ],
   "source": [
    "# encontrar el mim y max de un array\n",
    "\n",
    "m1 = np.arange(20)\n",
    "print(m1.max(), m1.min())"
   ]
  },
  {
   "cell_type": "code",
   "execution_count": 15,
   "metadata": {},
   "outputs": [
    {
     "name": "stdout",
     "output_type": "stream",
     "text": [
      "[ 0  1  2  3  4  5  6  7  8  9 11 12 13 14 15 16 17 18 19]\n"
     ]
    }
   ],
   "source": [
    "# combinar o concatenar dos matrices\n",
    "\n",
    "m1 = np.arange(10)\n",
    "m2 = np.array([11,12,13,14,15,16,17,18,19])\n",
    "\n",
    "m3 = np.concatenate((m1,m2))\n",
    "print(m3)\n"
   ]
  },
  {
   "cell_type": "code",
   "execution_count": 26,
   "metadata": {},
   "outputs": [
    {
     "name": "stdout",
     "output_type": "stream",
     "text": [
      "[[ 6  8]\n",
      " [10 12]]\n"
     ]
    }
   ],
   "source": [
    "# suma de matrices \n",
    "\n",
    "m1 = np.array([[1,2], [3,4]])\n",
    "m2 = np.array([[5,6], [7,8]])\n",
    "\n",
    "print(m1 + m2)\n",
    "\n",
    "# tambien aplica para la multiplicasion, division y resta"
   ]
  },
  {
   "cell_type": "code",
   "execution_count": 27,
   "metadata": {},
   "outputs": [
    {
     "name": "stdout",
     "output_type": "stream",
     "text": [
      "[[3 4]\n",
      " [5 6]]\n"
     ]
    }
   ],
   "source": [
    "# sumar un elemento en todos los de una matriz\n",
    "m1 = np.array([[1,2], [3,4]])\n",
    "print(m1 + 2)\n",
    "# tambien aplica para la multiplicasion, division y resta"
   ]
  },
  {
   "cell_type": "code",
   "execution_count": 28,
   "metadata": {},
   "outputs": [
    {
     "name": "stdout",
     "output_type": "stream",
     "text": [
      "[[ 6  8]\n",
      " [10 12]]\n",
      "[[-4 -4]\n",
      " [-4 -4]]\n",
      "[[ 5 12]\n",
      " [21 32]]\n",
      "[[0.2        0.33333333]\n",
      " [0.42857143 0.5       ]]\n"
     ]
    }
   ],
   "source": [
    "# tambien se puede hacer todo lo anterior usando metodos\n",
    "\n",
    "m1 = np.array([[1,2], [3,4]])\n",
    "m2 = np.array([[5,6], [7,8]])\n",
    "\n",
    "print(np.add(m1,m2)) # suma \n",
    "print(np.subtract(m1,m2)) # resta \n",
    "print(np.multiply(m1,m2)) # multiplica \n",
    "print(np.divide(m1,m2)) # divide"
   ]
  },
  {
   "cell_type": "code",
   "execution_count": 29,
   "metadata": {},
   "outputs": [
    {
     "name": "stdout",
     "output_type": "stream",
     "text": [
      "[[19 22]\n",
      " [43 50]]\n"
     ]
    }
   ],
   "source": [
    "# no se que hace esto pero lo agrego\n",
    "\n",
    "m1 = np.array([[1,2], [3,4]])\n",
    "m2 = np.array([[5,6], [7,8]])\n",
    "\n",
    "print(m1.dot(m2))"
   ]
  }
 ],
 "metadata": {
  "kernelspec": {
   "display_name": "Python 3",
   "language": "python",
   "name": "python3"
  },
  "language_info": {
   "codemirror_mode": {
    "name": "ipython",
    "version": 3
   },
   "file_extension": ".py",
   "mimetype": "text/x-python",
   "name": "python",
   "nbconvert_exporter": "python",
   "pygments_lexer": "ipython3",
   "version": "3.9.2"
  },
  "orig_nbformat": 4
 },
 "nbformat": 4,
 "nbformat_minor": 2
}
