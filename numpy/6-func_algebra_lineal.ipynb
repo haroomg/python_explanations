{
 "cells": [
  {
   "cell_type": "code",
   "execution_count": null,
   "metadata": {},
   "outputs": [],
   "source": [
    "# imports\n",
    "import numpy as np"
   ]
  },
  {
   "cell_type": "markdown",
   "metadata": {},
   "source": [
    "Metodos de algebra lineal."
   ]
  },
  {
   "cell_type": "code",
   "execution_count": null,
   "metadata": {},
   "outputs": [],
   "source": [
    "m = np.array([[1,-1,2],[3,2,0]])\n",
    "print(m)\n",
    "\n",
    "m1 = np.array([[1],[2],[3]])\n",
    "m2 = np.array([[1,2,3]])\n",
    "\n",
    "# el metodo transpose invierte la matriz si era de 3x1 ahora pasara 1x3\n",
    "print(np.transpose(m1))\n",
    "print(np.transpose(m2))"
   ]
  },
  {
   "cell_type": "code",
   "execution_count": null,
   "metadata": {},
   "outputs": [],
   "source": [
    "# 1- problema:\n",
    "# ax = b\n",
    "\n",
    "a = np.array([[2,1,-2],[3,0,1],[1,1,-1]])\n",
    "b = np.array([[-3],[5],[-2]])\n",
    "\n",
    "# transponemos b\n",
    "\n",
    "x = np.linalg.solve(a,b)\n",
    "print(x)\n",
    "print(np.allclose(np.dot(a,x),b))"
   ]
  },
  {
   "cell_type": "code",
   "execution_count": null,
   "metadata": {},
   "outputs": [],
   "source": [
    "\"\"\"\n",
    "2- problema:\n",
    "\n",
    "2x + 7y + 3z = 1\n",
    "2x + 8y + 2z = 1\n",
    " x + 3y +  z = 0\n",
    "\"\"\"\n",
    "\n",
    "m1 = np.array([[2,7,3],[2,8,2],[1,3,1]])\n",
    "m2 = np.array([1,1,0])\n",
    "# tramsponemos m2 \n",
    "m2.shape = (3,1)\n",
    "print(m2)\n",
    "\n",
    "print(np.linalg.solve(m1, m2))\n"
   ]
  }
 ],
 "metadata": {
  "kernelspec": {
   "display_name": "Python 3",
   "language": "python",
   "name": "python3"
  },
  "language_info": {
   "codemirror_mode": {
    "name": "ipython",
    "version": 3
   },
   "file_extension": ".py",
   "mimetype": "text/x-python",
   "name": "python",
   "nbconvert_exporter": "python",
   "pygments_lexer": "ipython3",
   "version": "3.9.2"
  },
  "orig_nbformat": 4
 },
 "nbformat": 4,
 "nbformat_minor": 2
}
