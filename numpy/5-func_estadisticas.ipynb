{
 "cells": [
  {
   "cell_type": "code",
   "execution_count": null,
   "metadata": {},
   "outputs": [],
   "source": [
    "# imports\n",
    "import numpy as np"
   ]
  },
  {
   "cell_type": "markdown",
   "metadata": {},
   "source": [
    "funciones estadisticas"
   ]
  },
  {
   "cell_type": "markdown",
   "metadata": {},
   "source": [
    "Las funciones presentadas, si el array es mayor que 1D se podra hacer el uso de los axis 0 y 1\n",
    "en caso de que no lo sea asi, y nuestro array es de 1D solo podemos hacer uso de nuestro axis 0."
   ]
  },
  {
   "cell_type": "code",
   "execution_count": null,
   "metadata": {},
   "outputs": [],
   "source": [
    "m = np.array([[1,2,3],[4,5,6],[7,8,9]])"
   ]
  },
  {
   "cell_type": "code",
   "execution_count": null,
   "metadata": {},
   "outputs": [],
   "source": [
    "print(m)\n",
    "print(\"\")\n",
    "\n",
    "# func para encontrar el valor maximo de un array, independientemente de donde se encuentre\n",
    "print(np.amax(m))\n",
    "\n",
    "# func para encontrar el valor minimo de un array, independientemente de donde se encuentre\n",
    "print(np.amin(m))"
   ]
  },
  {
   "cell_type": "code",
   "execution_count": null,
   "metadata": {},
   "outputs": [],
   "source": [
    "# func para encontrar el valor maximo de cada columna \n",
    "print(np.amax(m, axis=1))\n",
    "\n",
    "# func para encontrar el valor minimo de cada columna\n",
    "print(np.amin(m, axis=1))"
   ]
  },
  {
   "cell_type": "code",
   "execution_count": null,
   "metadata": {},
   "outputs": [],
   "source": [
    "# func para encontrar el valor maximo de cada fila \n",
    "print(np.amax(m, axis=1))\n",
    "\n",
    "# func para encontrar el valor minimo de cada fila\n",
    "print(np.amin(m, axis=1))"
   ]
  },
  {
   "cell_type": "code",
   "execution_count": null,
   "metadata": {},
   "outputs": [],
   "source": [
    "# resta el min con el max del array\n",
    "print(np.ptp(m))\n",
    "\n",
    "# resta el min con el max de las columnas\n",
    "print(np.ptp(m, axis=0))\n",
    "\n",
    "# resta el min con el max de las filas\n",
    "print(np.ptp(m, axis=1))"
   ]
  },
  {
   "cell_type": "code",
   "execution_count": null,
   "metadata": {},
   "outputs": [],
   "source": [
    "# esta funcion funciona cuando la cantidad de elementos es impar\n",
    "\n",
    "# retorna el percentil de un array\n",
    "print(np.percentile(m, 50))\n",
    "\n",
    "# retorna el percentil de las columnas\n",
    "print(np.percentile(m, 50, axis=0))\n",
    "\n",
    "# retorna el percentil de las filas\n",
    "print(np.percentile(m, 50, axis=1))"
   ]
  },
  {
   "cell_type": "code",
   "execution_count": null,
   "metadata": {},
   "outputs": [],
   "source": [
    "# retorna la media de un array\n",
    "print(np.median(m))\n",
    "\n",
    "# retorna la media de las columnas\n",
    "print(np.median(m, axis=0))\n",
    "\n",
    "# retorna la media de las filas\n",
    "print(np.median(m, axis=1))"
   ]
  },
  {
   "cell_type": "code",
   "execution_count": null,
   "metadata": {},
   "outputs": [],
   "source": [
    "# retorna la media aritmetica de un array\n",
    "print(np.mean(m))\n",
    "\n",
    "# retorna la media aritmetica de las columnas\n",
    "print(np.mean(m, axis=0))\n",
    "\n",
    "# retorna la media aritmetica de las filas\n",
    "print(np.mean(m, axis=1))"
   ]
  },
  {
   "cell_type": "code",
   "execution_count": 30,
   "metadata": {},
   "outputs": [
    {
     "name": "stdout",
     "output_type": "stream",
     "text": [
      "5.0\n",
      "[4. 5. 6.]\n",
      "[2. 5. 8.]\n"
     ]
    }
   ],
   "source": [
    "# retorna el promedio ponderado de un array\n",
    "print(np.average(m))\n",
    "\n",
    "# retorna el promedio ponderado de las columnas\n",
    "print(np.average(m, axis=0))\n",
    "\n",
    "# retorna el promedio ponderado de las filas\n",
    "print(np.average(m, axis=1))"
   ]
  },
  {
   "cell_type": "code",
   "execution_count": 32,
   "metadata": {},
   "outputs": [
    {
     "name": "stdout",
     "output_type": "stream",
     "text": [
      "2.581988897471611\n",
      "[2.44948974 2.44948974 2.44948974]\n",
      "[0.81649658 0.81649658 0.81649658]\n"
     ]
    }
   ],
   "source": [
    "# retorn la desviacion estandar\n",
    "print(np.std(m))\n",
    "\n",
    "# retorna la desviacion estandar de las columnas\n",
    "print(np.std(m, axis=0))\n",
    "\n",
    "# retorna la desviacion estandar de las filas\n",
    "print(np.std(m, axis=1))"
   ]
  }
 ],
 "metadata": {
  "kernelspec": {
   "display_name": "Python 3",
   "language": "python",
   "name": "python3"
  },
  "language_info": {
   "codemirror_mode": {
    "name": "ipython",
    "version": 3
   },
   "file_extension": ".py",
   "mimetype": "text/x-python",
   "name": "python",
   "nbconvert_exporter": "python",
   "pygments_lexer": "ipython3",
   "version": "3.9.2"
  },
  "orig_nbformat": 4
 },
 "nbformat": 4,
 "nbformat_minor": 2
}
