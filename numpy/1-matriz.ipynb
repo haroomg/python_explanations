{
 "cells": [
  {
   "cell_type": "code",
   "execution_count": null,
   "metadata": {},
   "outputs": [],
   "source": [
    "# imports\n",
    "import numpy as np\n",
    "from pprint import pprint as pp\n",
    "# import array as arr\n",
    "\n",
    "# # whit array\n",
    "# matriz = arr.array(\"i\", list(range(10)))"
   ]
  },
  {
   "cell_type": "code",
   "execution_count": null,
   "metadata": {},
   "outputs": [],
   "source": [
    "# with np.array\n",
    "matriz = np.array(list(range(10)))"
   ]
  },
  {
   "cell_type": "code",
   "execution_count": null,
   "metadata": {},
   "outputs": [],
   "source": [
    "# matriz 2 x 3\n",
    "lista = [[1,2,3], [4,5,6], [7,8,9]]\n",
    "m2d = np.array(lista)\n",
    "print(m2d)"
   ]
  },
  {
   "cell_type": "code",
   "execution_count": null,
   "metadata": {},
   "outputs": [],
   "source": [
    "# arange, ingresamos la cantidad de valores que va a haber en el array\n",
    "# reshape, ingresamos cuantas columnas y filas tendra la matriz, solo que \n",
    "# estas debe ser multiplo de la cantidad que ingresamos en arange\n",
    "\n",
    "#                         D F C\n",
    "m = np.arange(27).reshape(3,3,3)\n",
    "print(m.shape) # nos muestra el tamaño de la matriz si es 2x3 o 3x3\n",
    "print(m.ndim) # muestra las dimenciones de la matriz si es 2D o 3D\n",
    "print(m.size) # nos muetsra el numero de elmentos que se encuentra en la matriz, en este caso hay 20 elementos\n",
    "print(m)"
   ]
  },
  {
   "cell_type": "code",
   "execution_count": null,
   "metadata": {},
   "outputs": [],
   "source": [
    "# zero, podemos crear una matriz de n dimenciones con sus elementos en cero\n",
    "\n",
    "m = np.zeros((3,4))\n",
    "print(m)"
   ]
  },
  {
   "cell_type": "code",
   "execution_count": null,
   "metadata": {},
   "outputs": [],
   "source": [
    "# linspace, creamos una matriz 1D, en la cuales pones de argumento el primer valor \n",
    "# con el que va a empezar la matriz, el ultimo con el que termina y la cantidad de valores\n",
    "# que vana ir entre estos dos declarados al principio\n",
    "\n",
    "m = np.linspace(99, 88, 25)\n",
    "print(m)"
   ]
  }
 ],
 "metadata": {
  "kernelspec": {
   "display_name": "Python 3",
   "language": "python",
   "name": "python3"
  },
  "language_info": {
   "codemirror_mode": {
    "name": "ipython",
    "version": 3
   },
   "file_extension": ".py",
   "mimetype": "text/x-python",
   "name": "python",
   "nbconvert_exporter": "python",
   "pygments_lexer": "ipython3",
   "version": "3.9.2"
  },
  "orig_nbformat": 4
 },
 "nbformat": 4,
 "nbformat_minor": 2
}
